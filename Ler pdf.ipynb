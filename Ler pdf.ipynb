{
 "cells": [
  {
   "cell_type": "code",
   "execution_count": 1,
   "id": "295ef17a-b8bf-43ff-9811-7de2a641e6dd",
   "metadata": {},
   "outputs": [],
   "source": [
    "import PyPDF2 as pdf\n",
    "import re"
   ]
  },
  {
   "cell_type": "code",
   "execution_count": 30,
   "id": "b480ef8b-dee4-41b3-bf51-268424affd8d",
   "metadata": {},
   "outputs": [],
   "source": [
    "pdf_file= open('Test.pdf','rb')\n",
    "pdfReader = pdf.PdfFileReader(pdf_file)"
   ]
  },
  {
   "cell_type": "code",
   "execution_count": 32,
   "id": "a1559e24-196d-4f3c-8be3-790958a9870e",
   "metadata": {},
   "outputs": [
    {
     "name": "stdout",
     "output_type": "stream",
     "text": [
      "\n"
     ]
    }
   ],
   "source": [
    "pageObj = pdfReader.getPage(0)\n",
    "text=(pageObj.extractText())\n",
    "\n",
    "print(text)\n"
   ]
  },
  {
   "cell_type": "code",
   "execution_count": 53,
   "id": "7789a577-d34c-42c5-a1e9-5547d6c1000b",
   "metadata": {},
   "outputs": [],
   "source": [
    "search_keywords=['CNPJ','NOME']"
   ]
  },
  {
   "cell_type": "code",
   "execution_count": 23,
   "id": "55910452-cadd-4232-9cd9-44ca7a2de158",
   "metadata": {
    "collapsed": true,
    "jupyter": {
     "outputs_hidden": true
    },
    "tags": []
   },
   "outputs": [
    {
     "name": "stdout",
     "output_type": "stream",
     "text": [
      "1 key word(s) in sentence: GST\n",
      "Ministry of Finance\n",
      "GST Revenue Collection for March\n",
      "\n",
      "2 key word(s) in sentence: GST, Ministry \n",
      "Ministry of Finance\n",
      "GST Revenue Collection for March\n",
      "\n",
      "3 key word(s) in sentence: GST, Ministry , Revenue \n",
      "Ministry of Finance\n",
      "GST Revenue Collection for March\n",
      "\n",
      "1 key word(s) in sentence: GST\n",
      "597 Crore Ofgross GST revenue collected\n",
      "Posted On: 01 APR 2020 5:05PM by PIB Delhi\n",
      "The gross GST revenue collected in the month of March\n",
      "\n",
      "1 key word(s) in sentence: GST\n",
      "597crore\n",
      " \n",
      "of which CGST\n",
      "is\n",
      " \n",
      "Rs. 19\n",
      "\n",
      "1 key word(s) in sentence: GST\n",
      " SGST is\n",
      " \n",
      "Rs. 25\n",
      "\n",
      "1 key word(s) in sentence: GST\n",
      " IGST is\n",
      " \n",
      "Rs. 44\n",
      "\n",
      "1 key word(s) in sentence: GST\n",
      "306 crore\n",
      " \n",
      "(including\n",
      " \n",
      "Rs. 841\n",
      " \n",
      "crore\n",
      " \n",
      "collected on\n",
      "imports). The total number of GSTR-3B Returns filed for the month of February up to 31\n",
      "st\n",
      " \n",
      "March\n",
      "\n",
      "1 key word(s) in sentence: GST\n",
      "718\n",
      " \n",
      "crore to CGST and\n",
      " \n",
      "Rs. 14\n",
      "\n",
      "1 key word(s) in sentence: GST\n",
      "915\n",
      " \n",
      "crore to SGST from IGST\n",
      "as regular settlement. Inaddition\n",
      "\n",
      "1 key word(s) in sentence: GST\n",
      "Centre has also apportioned unsettled balance IGST of Rs. 6000\n",
      "crores on ad-hoc basis in the ratio of 50:50 between centre and States/UTs.The total revenue\n",
      "earned by Central Government and the State Governments after regular settlement in the month of\n",
      "March\n",
      "\n",
      "1 key word(s) in sentence: GST\n",
      "901 crore\n",
      " \n",
      "for CGST and\n",
      " \n",
      "Rs. 43\n",
      "\n",
      "1 key word(s) in sentence: GST\n",
      "516 crore\n",
      " \n",
      "for the SGST.\n",
      "The GST revenues during the month of March\n",
      "\n",
      "1 key word(s) in sentence: %\n",
      " 2020 from domestic transactions has shown\n",
      "anegative growth of 4% over the revenue during the month of March\n",
      "\n",
      "1 key word(s) in sentence: GST\n",
      " 2019. Taking into account the\n",
      "GST collected from import of goods\n",
      "\n",
      "1 key word(s) in sentence: %\n",
      " 2020has also decreasedby 8%\n",
      "in comparison to the revenue during March\n",
      "\n",
      "1 key word(s) in sentence: GST\n",
      " the GST on import of goods\n",
      "has shown a negative growth of (-) 23% as compared to March\n",
      "\n",
      "2 key word(s) in sentence: GST, %\n",
      " the GST on import of goods\n",
      "has shown a negative growth of (-) 23% as compared to March\n",
      "\n",
      "1 key word(s) in sentence: GST\n",
      " the GST for domestic transaction has shown a growth rate of\n",
      "8% over the revenues during last year. During the year\n",
      "\n",
      "2 key word(s) in sentence: GST, %\n",
      " the GST for domestic transaction has shown a growth rate of\n",
      "8% over the revenues during last year. During the year\n",
      "\n",
      "1 key word(s) in sentence: GST\n",
      " GST from import on goods fell down by 8%\n",
      "as compared to last year. Overall\n",
      "\n",
      "2 key word(s) in sentence: GST, %\n",
      " GST from import on goods fell down by 8%\n",
      "as compared to last year. Overall\n",
      "\n",
      "1 key word(s) in sentence: GST\n",
      " gross GST revenues grew at 4% over the last year™s GST\n",
      "revenue.\n",
      "The chart shows trends in monthly gross GST revenues during the current year. The table\n",
      "shows the state-wise figures of GST collected in each State during the month of March\n",
      "\n",
      "2 key word(s) in sentence: GST, %\n",
      " gross GST revenues grew at 4% over the last year™s GST\n",
      "revenue.\n",
      "The chart shows trends in monthly gross GST revenues during the current year. The table\n",
      "shows the state-wise figures of GST collected in each State during the month of March\n",
      "\n"
     ]
    }
   ],
   "source": [
    "for sentence in text:\n",
    "    lst = []\n",
    "    for word in search_keywords:\n",
    "        if word in sentence:\n",
    "            lst.append(word)\n",
    "            print('{0} key word(s) in sentence: {1}'.format(len(lst), ', '.join(lst)))\n",
    "            print(sentence + \"\\n\")"
   ]
  },
  {
   "cell_type": "code",
   "execution_count": 49,
   "id": "0cbbfda2-95e1-4cf6-80c8-e4b21fe6dbac",
   "metadata": {},
   "outputs": [
    {
     "name": "stdout",
     "output_type": "stream",
     "text": [
      "NOME: BB RENDA FIXA LP PARCERIA 10 MIL FUNDO DE INVESTIMENTO\n",
      "CNPJ: 30.822.936/0001-69\n",
      "Villager 1: Think it's in there?\n",
      "Villager 2: All right. Let's get it!\n",
      "Villager 1: Whoa. Hold on. Do you know what that thing can do to you?\n",
      "Villager 3: Yeah, it'll grind your bones for it's bread.\n",
      "Shrek sneaks up behind them and laughs.\n",
      "SHREK: Yes, well, actually, that would be a giant. Now, ogres, oh they're much worse.\n",
      "They'll make a suit from your freshly peeled skin...\n",
      "Villagers: No!\n",
      "SHREK: They'll shave your liver. Squeeze the jelly from your eyes! Actually, it's quite good\n",
      "on toast.\n",
      "Villager 1: Back! Back, beast! Back! I warn ya! (Waves the torch at Shrek.)\n",
      "Shrek licks his fingers and extinguishes the torch. The men shrink back away from him.\n",
      "Shrek terrifies the mob with a frightening roar, his spit extinguishing all the remaining\n",
      "torches.\n",
      "SHREK: (Whispering) This is the part where you run away.\n",
      "The men drop their torches and pitchforks and flee as fast they can.\n",
      "SHREK: And stay out! (looks down and picks up a wanted poster. Reads.) \"Wanted.\n",
      "Fairytale creatures.\" (He sighs and drops the paper on the ground.)\n"
     ]
    }
   ],
   "source": [
    "import pdfplumber\n",
    "with pdfplumber.open(r'Test.pdf') as pdf1:\n",
    "    first_page = pdf1.pages[0]\n",
    "    print(first_page.extract_text())"
   ]
  },
  {
   "cell_type": "code",
   "execution_count": 54,
   "id": "09e9afef-dca5-416b-9012-7f226d737c6e",
   "metadata": {},
   "outputs": [
    {
     "name": "stdout",
     "output_type": "stream",
     "text": [
      "['NOME: BB RENDA FIXA LP PARCERIA 10 MIL FUNDO DE INVESTIMENTO', 'CNPJ: 30.822.936/0001-69', \"Villager 1: Think it's in there?\", \"Villager 2: All right. Let's get it!\", 'Villager 1: Whoa. Hold on. Do you know what that thing can do to you?', \"Villager 3: Yeah, it'll grind your bones for it's bread.\", 'Shrek sneaks up behind them and laughs.', \"SHREK: Yes, well, actually, that would be a giant. Now, ogres, oh they're much worse.\", \"They'll make a suit from your freshly peeled skin...\", 'Villagers: No!', \"SHREK: They'll shave your liver. Squeeze the jelly from your eyes! Actually, it's quite good\", 'on toast.', 'Villager 1: Back! Back, beast! Back! I warn ya! (Waves the torch at Shrek.)', 'Shrek licks his fingers and extinguishes the torch. The men shrink back away from him.', 'Shrek terrifies the mob with a frightening roar, his spit extinguishing all the remaining', 'torches.', 'SHREK: (Whispering) This is the part where you run away.', 'The men drop their torches and pitchforks and flee as fast they can.', 'SHREK: And stay out! (looks down and picks up a wanted poster. Reads.) \"Wanted.', 'Fairytale creatures.\" (He sighs and drops the paper on the ground.)']\n",
      "1 key word(s) in sentence: NOME\n",
      "NOME: BB RENDA FIXA LP PARCERIA 10 MIL FUNDO DE INVESTIMENTO\n",
      "\n",
      "1 key word(s) in sentence: CNPJ\n",
      "CNPJ: 30.822.936/0001-69\n",
      "\n"
     ]
    }
   ],
   "source": [
    "text =first_page.extract_text()\n",
    "text = text.split(\"\\n\")\n",
    "print(text)\n",
    "for sentence in text:\n",
    "    lst = []\n",
    "    for word in search_keywords:\n",
    "        if word in sentence:\n",
    "            lst.append(word)\n",
    "            print('{0} key word(s) in sentence: {1}'.format(len(lst), ', '.join(lst)))\n",
    "            print(sentence + \"\\n\")"
   ]
  },
  {
   "cell_type": "code",
   "execution_count": 59,
   "id": "b2b62236-f8b4-4f90-a18b-a466677bf891",
   "metadata": {},
   "outputs": [
    {
     "name": "stdout",
     "output_type": "stream",
     "text": [
      "gst-revenue-collection-march2020.pdf\n",
      "reg07861571.pdf\n",
      "Test.pdf\n"
     ]
    }
   ],
   "source": [
    "# Import the required libraries\n",
    "import os\n",
    "\n",
    "# Define the location of the directory\n",
    "path =r\"C:/Users/pfabr/OneDrive/Documentos/Teste\"\n",
    "\n",
    "# Change the directory\n",
    "os.chdir(path)\n",
    "\n",
    "def read_files(file_path):\n",
    "   with open(file_path, 'r') as file:\n",
    "      print(file.read())\n",
    "\n",
    "# Iterate over all the files in the directory\n",
    "for file in os.listdir():\n",
    "   if file.endswith('.pdf'):\n",
    "      # Create the filepath of particular file\n",
    "      print(file)\n",
    "\n"
   ]
  },
  {
   "cell_type": "code",
   "execution_count": 61,
   "id": "5d9a643f-fc13-497c-a53b-d70cdc01771d",
   "metadata": {},
   "outputs": [],
   "source": [
    "import pandas as pd"
   ]
  },
  {
   "cell_type": "code",
   "execution_count": 62,
   "id": "c50d90a8-4155-4fb3-92b7-d97fcec251bc",
   "metadata": {},
   "outputs": [
    {
     "ename": "AttributeError",
     "evalue": "module 'pandas' has no attribute 'DataFrame'",
     "output_type": "error",
     "traceback": [
      "\u001b[1;31m---------------------------------------------------------------------------\u001b[0m",
      "\u001b[1;31mAttributeError\u001b[0m                            Traceback (most recent call last)",
      "Input \u001b[1;32mIn [62]\u001b[0m, in \u001b[0;36m<cell line: 1>\u001b[1;34m()\u001b[0m\n\u001b[1;32m----> 1\u001b[0m df\u001b[38;5;241m=\u001b[39m \u001b[43mpd\u001b[49m\u001b[38;5;241;43m.\u001b[39;49m\u001b[43mDataFrame\u001b[49m(columns\u001b[38;5;241m=\u001b[39m [\u001b[38;5;124m\"\u001b[39m\u001b[38;5;124mFundo\u001b[39m\u001b[38;5;124m\"\u001b[39m, \u001b[38;5;124m\"\u001b[39m\u001b[38;5;124mCNPJ\u001b[39m\u001b[38;5;124m\"\u001b[39m, \u001b[38;5;124m\"\u001b[39m\u001b[38;5;124mRAZÃO SOCIAL\u001b[39m\u001b[38;5;124m\"\u001b[39m])\n",
      "\u001b[1;31mAttributeError\u001b[0m: module 'pandas' has no attribute 'DataFrame'"
     ]
    }
   ],
   "source": [
    "df= pd.DataFrame(columns= [\"Fundo\", \"CNPJ\", \"RAZÃO SOCIAL\"]) #Fazer toDataframe um arquivo excel modelo "
   ]
  },
  {
   "cell_type": "code",
   "execution_count": null,
   "id": "9f0428fb-36fe-48d4-af5d-9fa2b9bda152",
   "metadata": {},
   "outputs": [],
   "source": []
  }
 ],
 "metadata": {
  "kernelspec": {
   "display_name": "Python 3 (ipykernel)",
   "language": "python",
   "name": "python3"
  },
  "language_info": {
   "codemirror_mode": {
    "name": "ipython",
    "version": 3
   },
   "file_extension": ".py",
   "mimetype": "text/x-python",
   "name": "python",
   "nbconvert_exporter": "python",
   "pygments_lexer": "ipython3",
   "version": "3.9.7"
  }
 },
 "nbformat": 4,
 "nbformat_minor": 5
}
